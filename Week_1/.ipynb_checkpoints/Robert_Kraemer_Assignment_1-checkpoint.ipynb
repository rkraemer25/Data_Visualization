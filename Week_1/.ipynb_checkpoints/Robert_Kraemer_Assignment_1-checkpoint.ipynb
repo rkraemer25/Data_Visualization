{
 "cells": [
  {
   "cell_type": "markdown",
   "id": "72d7ec5c",
   "metadata": {},
   "source": [
    "# Assignment 1\n",
    "### Robert Kraemer \n",
    "<b>Due:</b> by midnight MST the day prior to Live Session 2 "
   ]
  },
  {
   "cell_type": "code",
   "execution_count": 230,
   "id": "a9a3ed24",
   "metadata": {},
   "outputs": [],
   "source": [
    "import csv\n",
    "import random\n",
    "import numpy as np\n",
    "import pandas as pd"
   ]
  },
  {
   "cell_type": "markdown",
   "id": "162fef38",
   "metadata": {},
   "source": [
    "### Assignment 1, Part 1: \n",
    "Construct a CSV file with the first eight elements of the periodic table. Include columns for name, symbol, and atomic number. Read that into a pandas DataFrame. Inside the program, add a ninth and 10th element, and then add a column with the atomic weights rounded to the nearest integer."
   ]
  },
  {
   "cell_type": "code",
   "execution_count": 231,
   "id": "ae8d71f5",
   "metadata": {},
   "outputs": [],
   "source": [
    "# Construct a CSV file with the first eight elements of the periodic table\n",
    "periodic_header = ['name', 'symbol', 'atomic_number']\n",
    "periodic_data = [['Hydrogen','H',1],\n",
    "                 ['Helium','He',2], \n",
    "                 ['Lithium','Li',3],\n",
    "                 ['Beryllium','Be',4],\n",
    "                 ['Boron','B',5],\n",
    "                 ['Carbon','C',6],\n",
    "                 ['Nitrogen','N',7],\n",
    "                 ['Oxygen','O',8]\n",
    "                ]\n",
    "with open('periodic_table.csv', 'w') as file:\n",
    "    writer = csv.writer(file)\n",
    "    writer.writerow(periodic_header)\n",
    "    writer.writerows(periodic_data)"
   ]
  },
  {
   "cell_type": "code",
   "execution_count": 232,
   "id": "af4b6c70",
   "metadata": {},
   "outputs": [
    {
     "data": {
      "text/html": [
       "<div>\n",
       "<style scoped>\n",
       "    .dataframe tbody tr th:only-of-type {\n",
       "        vertical-align: middle;\n",
       "    }\n",
       "\n",
       "    .dataframe tbody tr th {\n",
       "        vertical-align: top;\n",
       "    }\n",
       "\n",
       "    .dataframe thead th {\n",
       "        text-align: right;\n",
       "    }\n",
       "</style>\n",
       "<table border=\"1\" class=\"dataframe\">\n",
       "  <thead>\n",
       "    <tr style=\"text-align: right;\">\n",
       "      <th></th>\n",
       "      <th>name</th>\n",
       "      <th>symbol</th>\n",
       "      <th>atomic_number</th>\n",
       "    </tr>\n",
       "  </thead>\n",
       "  <tbody>\n",
       "    <tr>\n",
       "      <th>0</th>\n",
       "      <td>Hydrogen</td>\n",
       "      <td>H</td>\n",
       "      <td>1</td>\n",
       "    </tr>\n",
       "    <tr>\n",
       "      <th>1</th>\n",
       "      <td>Helium</td>\n",
       "      <td>He</td>\n",
       "      <td>2</td>\n",
       "    </tr>\n",
       "    <tr>\n",
       "      <th>2</th>\n",
       "      <td>Lithium</td>\n",
       "      <td>Li</td>\n",
       "      <td>3</td>\n",
       "    </tr>\n",
       "    <tr>\n",
       "      <th>3</th>\n",
       "      <td>Beryllium</td>\n",
       "      <td>Be</td>\n",
       "      <td>4</td>\n",
       "    </tr>\n",
       "    <tr>\n",
       "      <th>4</th>\n",
       "      <td>Boron</td>\n",
       "      <td>B</td>\n",
       "      <td>5</td>\n",
       "    </tr>\n",
       "    <tr>\n",
       "      <th>5</th>\n",
       "      <td>Carbon</td>\n",
       "      <td>C</td>\n",
       "      <td>6</td>\n",
       "    </tr>\n",
       "    <tr>\n",
       "      <th>6</th>\n",
       "      <td>Nitrogen</td>\n",
       "      <td>N</td>\n",
       "      <td>7</td>\n",
       "    </tr>\n",
       "    <tr>\n",
       "      <th>7</th>\n",
       "      <td>Oxygen</td>\n",
       "      <td>O</td>\n",
       "      <td>8</td>\n",
       "    </tr>\n",
       "  </tbody>\n",
       "</table>\n",
       "</div>"
      ],
      "text/plain": [
       "        name symbol  atomic_number\n",
       "0   Hydrogen      H              1\n",
       "1     Helium     He              2\n",
       "2    Lithium     Li              3\n",
       "3  Beryllium     Be              4\n",
       "4      Boron      B              5\n",
       "5     Carbon      C              6\n",
       "6   Nitrogen      N              7\n",
       "7     Oxygen      O              8"
      ]
     },
     "execution_count": 232,
     "metadata": {},
     "output_type": "execute_result"
    }
   ],
   "source": [
    "# Read CSV file into a pandas DataFrame\n",
    "periodic_df = pd.read_csv('periodic_table.csv')\n",
    "periodic_df"
   ]
  },
  {
   "cell_type": "code",
   "execution_count": 233,
   "id": "ffb8c4cb",
   "metadata": {},
   "outputs": [
    {
     "data": {
      "text/html": [
       "<div>\n",
       "<style scoped>\n",
       "    .dataframe tbody tr th:only-of-type {\n",
       "        vertical-align: middle;\n",
       "    }\n",
       "\n",
       "    .dataframe tbody tr th {\n",
       "        vertical-align: top;\n",
       "    }\n",
       "\n",
       "    .dataframe thead th {\n",
       "        text-align: right;\n",
       "    }\n",
       "</style>\n",
       "<table border=\"1\" class=\"dataframe\">\n",
       "  <thead>\n",
       "    <tr style=\"text-align: right;\">\n",
       "      <th></th>\n",
       "      <th>name</th>\n",
       "      <th>symbol</th>\n",
       "      <th>atomic_number</th>\n",
       "    </tr>\n",
       "  </thead>\n",
       "  <tbody>\n",
       "    <tr>\n",
       "      <th>0</th>\n",
       "      <td>Hydrogen</td>\n",
       "      <td>H</td>\n",
       "      <td>1</td>\n",
       "    </tr>\n",
       "    <tr>\n",
       "      <th>1</th>\n",
       "      <td>Helium</td>\n",
       "      <td>He</td>\n",
       "      <td>2</td>\n",
       "    </tr>\n",
       "    <tr>\n",
       "      <th>2</th>\n",
       "      <td>Lithium</td>\n",
       "      <td>Li</td>\n",
       "      <td>3</td>\n",
       "    </tr>\n",
       "    <tr>\n",
       "      <th>3</th>\n",
       "      <td>Beryllium</td>\n",
       "      <td>Be</td>\n",
       "      <td>4</td>\n",
       "    </tr>\n",
       "    <tr>\n",
       "      <th>4</th>\n",
       "      <td>Boron</td>\n",
       "      <td>B</td>\n",
       "      <td>5</td>\n",
       "    </tr>\n",
       "    <tr>\n",
       "      <th>5</th>\n",
       "      <td>Carbon</td>\n",
       "      <td>C</td>\n",
       "      <td>6</td>\n",
       "    </tr>\n",
       "    <tr>\n",
       "      <th>6</th>\n",
       "      <td>Nitrogen</td>\n",
       "      <td>N</td>\n",
       "      <td>7</td>\n",
       "    </tr>\n",
       "    <tr>\n",
       "      <th>7</th>\n",
       "      <td>Oxygen</td>\n",
       "      <td>O</td>\n",
       "      <td>8</td>\n",
       "    </tr>\n",
       "    <tr>\n",
       "      <th>8</th>\n",
       "      <td>Fluorine</td>\n",
       "      <td>F</td>\n",
       "      <td>9</td>\n",
       "    </tr>\n",
       "    <tr>\n",
       "      <th>9</th>\n",
       "      <td>Neon</td>\n",
       "      <td>Ne</td>\n",
       "      <td>10</td>\n",
       "    </tr>\n",
       "  </tbody>\n",
       "</table>\n",
       "</div>"
      ],
      "text/plain": [
       "        name symbol  atomic_number\n",
       "0   Hydrogen      H              1\n",
       "1     Helium     He              2\n",
       "2    Lithium     Li              3\n",
       "3  Beryllium     Be              4\n",
       "4      Boron      B              5\n",
       "5     Carbon      C              6\n",
       "6   Nitrogen      N              7\n",
       "7     Oxygen      O              8\n",
       "8   Fluorine      F              9\n",
       "9       Neon     Ne             10"
      ]
     },
     "execution_count": 233,
     "metadata": {},
     "output_type": "execute_result"
    }
   ],
   "source": [
    "# add a 9th and 10th element\n",
    "nine_and_ten = pd.DataFrame({'name':['Fluorine','Neon'],\n",
    "                             'symbol':['F','Ne'],\n",
    "                             'atomic_number':[9,10]})\n",
    "periodic_df = pd.concat([periodic_df, nine_and_ten], ignore_index = True).reset_index(drop=True)\n",
    "periodic_df"
   ]
  },
  {
   "cell_type": "code",
   "execution_count": 234,
   "id": "1548b9e8",
   "metadata": {},
   "outputs": [
    {
     "data": {
      "text/html": [
       "<div>\n",
       "<style scoped>\n",
       "    .dataframe tbody tr th:only-of-type {\n",
       "        vertical-align: middle;\n",
       "    }\n",
       "\n",
       "    .dataframe tbody tr th {\n",
       "        vertical-align: top;\n",
       "    }\n",
       "\n",
       "    .dataframe thead th {\n",
       "        text-align: right;\n",
       "    }\n",
       "</style>\n",
       "<table border=\"1\" class=\"dataframe\">\n",
       "  <thead>\n",
       "    <tr style=\"text-align: right;\">\n",
       "      <th></th>\n",
       "      <th>name</th>\n",
       "      <th>symbol</th>\n",
       "      <th>atomic_number</th>\n",
       "      <th>atomic_weights</th>\n",
       "    </tr>\n",
       "  </thead>\n",
       "  <tbody>\n",
       "    <tr>\n",
       "      <th>0</th>\n",
       "      <td>Hydrogen</td>\n",
       "      <td>H</td>\n",
       "      <td>1</td>\n",
       "      <td>1</td>\n",
       "    </tr>\n",
       "    <tr>\n",
       "      <th>1</th>\n",
       "      <td>Helium</td>\n",
       "      <td>He</td>\n",
       "      <td>2</td>\n",
       "      <td>4</td>\n",
       "    </tr>\n",
       "    <tr>\n",
       "      <th>2</th>\n",
       "      <td>Lithium</td>\n",
       "      <td>Li</td>\n",
       "      <td>3</td>\n",
       "      <td>7</td>\n",
       "    </tr>\n",
       "    <tr>\n",
       "      <th>3</th>\n",
       "      <td>Beryllium</td>\n",
       "      <td>Be</td>\n",
       "      <td>4</td>\n",
       "      <td>9</td>\n",
       "    </tr>\n",
       "    <tr>\n",
       "      <th>4</th>\n",
       "      <td>Boron</td>\n",
       "      <td>B</td>\n",
       "      <td>5</td>\n",
       "      <td>11</td>\n",
       "    </tr>\n",
       "    <tr>\n",
       "      <th>5</th>\n",
       "      <td>Carbon</td>\n",
       "      <td>C</td>\n",
       "      <td>6</td>\n",
       "      <td>12</td>\n",
       "    </tr>\n",
       "    <tr>\n",
       "      <th>6</th>\n",
       "      <td>Nitrogen</td>\n",
       "      <td>N</td>\n",
       "      <td>7</td>\n",
       "      <td>14</td>\n",
       "    </tr>\n",
       "    <tr>\n",
       "      <th>7</th>\n",
       "      <td>Oxygen</td>\n",
       "      <td>O</td>\n",
       "      <td>8</td>\n",
       "      <td>16</td>\n",
       "    </tr>\n",
       "    <tr>\n",
       "      <th>8</th>\n",
       "      <td>Fluorine</td>\n",
       "      <td>F</td>\n",
       "      <td>9</td>\n",
       "      <td>19</td>\n",
       "    </tr>\n",
       "    <tr>\n",
       "      <th>9</th>\n",
       "      <td>Neon</td>\n",
       "      <td>Ne</td>\n",
       "      <td>10</td>\n",
       "      <td>20</td>\n",
       "    </tr>\n",
       "  </tbody>\n",
       "</table>\n",
       "</div>"
      ],
      "text/plain": [
       "        name symbol  atomic_number  atomic_weights\n",
       "0   Hydrogen      H              1               1\n",
       "1     Helium     He              2               4\n",
       "2    Lithium     Li              3               7\n",
       "3  Beryllium     Be              4               9\n",
       "4      Boron      B              5              11\n",
       "5     Carbon      C              6              12\n",
       "6   Nitrogen      N              7              14\n",
       "7     Oxygen      O              8              16\n",
       "8   Fluorine      F              9              19\n",
       "9       Neon     Ne             10              20"
      ]
     },
     "execution_count": 234,
     "metadata": {},
     "output_type": "execute_result"
    }
   ],
   "source": [
    "# add a column with the atomic weights rounded to the nearest integer\n",
    "periodic_df['atomic_weights'] = [1,4,7,9,11,12,14,16,19,20]\n",
    "periodic_df"
   ]
  },
  {
   "cell_type": "markdown",
   "id": "fe605377",
   "metadata": {},
   "source": [
    "### Assignment 1, Part 2: \n",
    "Make a list of strings for nine Greek letters, for example ‘alpha’. Make that list such that the strings are not in alphabetic order. Make two 9-element numpy arrays of random floating-point numbers with an estimated mean of 10 and a standard deviation of 1.5. Make another array of nine elements ranging from zero to two times pi. Name it ‘angle’. Make another array holding the cosine of that ‘angle’ array. Construct a dictionary from all of the above. Form a DataFrame from that dictionary, and print it out. Sort the DataFrame ascending on the Greek letters, drop two columns of your choice, drop one of the rows, and print that out."
   ]
  },
  {
   "cell_type": "code",
   "execution_count": 235,
   "id": "a0de7d80",
   "metadata": {},
   "outputs": [
    {
     "name": "stdout",
     "output_type": "stream",
     "text": [
      "\n",
      "Greek letters: ['alpha', 'beta', 'gamma', 'delta', 'epsilon', 'zeta', 'eta', 'theta', 'iota']\n"
     ]
    }
   ],
   "source": [
    "# Make a list of strings for nine Greek letters, for example ‘alpha’\n",
    "# Make that list such that the strings are not in alphabetic order\n",
    "greek_letters = ['alpha','beta','gamma','delta','epsilon','zeta','eta','theta','iota']\n",
    "print('\\nGreek letters:', greek_letters)"
   ]
  },
  {
   "cell_type": "code",
   "execution_count": 236,
   "id": "dc7a3ad6",
   "metadata": {},
   "outputs": [
    {
     "name": "stdout",
     "output_type": "stream",
     "text": [
      "\n",
      "Array 1: [ 9.63653469 11.33567704  9.67532703  8.06501194 10.15506943 10.45224344\n",
      "  9.58671532  8.5571646  11.29004329]\n",
      "\n",
      "Array 2: [10.68730024 10.02392885 11.12453476  7.96781164  9.56365836 11.20441546\n",
      " 11.05050578  9.92022541  9.6230921 ]\n"
     ]
    }
   ],
   "source": [
    "# Make two 9-element numpy arrays of random floating-point numbers with an \n",
    "# estimated mean of 10 and a standard deviation of 1.5\n",
    "array1 = np.random.normal(loc=10, scale=1.5, size=9)\n",
    "print('\\nArray 1:', array1) \n",
    "array2 = np.random.normal(loc=10, scale=1.5, size=9)\n",
    "print('\\nArray 2:', array2) "
   ]
  },
  {
   "cell_type": "code",
   "execution_count": 237,
   "id": "8b83ecf2",
   "metadata": {},
   "outputs": [
    {
     "name": "stdout",
     "output_type": "stream",
     "text": [
      "\n",
      "Angle: [5.53751415 3.72030843 2.24826571 0.7012673  0.20123495 0.72955824\n",
      " 5.76353377 2.70030426 6.00621121]\n"
     ]
    }
   ],
   "source": [
    "# Make another array of nine elements ranging from zero to two times pi\n",
    "# Name it ‘angle’\n",
    "angle = np.random.uniform(low=0, high=2*np.pi, size=9)\n",
    "print('\\nAngle:', angle)"
   ]
  },
  {
   "cell_type": "code",
   "execution_count": 238,
   "id": "2bba6ecc",
   "metadata": {},
   "outputs": [
    {
     "name": "stdout",
     "output_type": "stream",
     "text": [
      "\n",
      "Cosine of ‘angle’ array: [ 0.73463271 -0.83716574 -0.62682328  0.76402516  0.97982048  0.74546893\n",
      "  0.86799227 -0.90420214  0.96188726]\n"
     ]
    }
   ],
   "source": [
    "# Make another array holding the cosine of that ‘angle’ array\n",
    "cos_angle = np.cos(angle)\n",
    "print('\\nCosine of ‘angle’ array:', cos_angle)"
   ]
  },
  {
   "cell_type": "code",
   "execution_count": 239,
   "id": "9448593c",
   "metadata": {},
   "outputs": [
    {
     "data": {
      "text/plain": [
       "{'greek_letters': ['alpha',\n",
       "  'beta',\n",
       "  'gamma',\n",
       "  'delta',\n",
       "  'epsilon',\n",
       "  'zeta',\n",
       "  'eta',\n",
       "  'theta',\n",
       "  'iota'],\n",
       " 'array1': array([ 9.63653469, 11.33567704,  9.67532703,  8.06501194, 10.15506943,\n",
       "        10.45224344,  9.58671532,  8.5571646 , 11.29004329]),\n",
       " 'array2': array([10.68730024, 10.02392885, 11.12453476,  7.96781164,  9.56365836,\n",
       "        11.20441546, 11.05050578,  9.92022541,  9.6230921 ]),\n",
       " 'angle': array([5.53751415, 3.72030843, 2.24826571, 0.7012673 , 0.20123495,\n",
       "        0.72955824, 5.76353377, 2.70030426, 6.00621121]),\n",
       " 'cos_angle': array([ 0.73463271, -0.83716574, -0.62682328,  0.76402516,  0.97982048,\n",
       "         0.74546893,  0.86799227, -0.90420214,  0.96188726])}"
      ]
     },
     "execution_count": 239,
     "metadata": {},
     "output_type": "execute_result"
    }
   ],
   "source": [
    "# Construct a dictionary from all of the above\n",
    "dict_container = {'greek_letters':greek_letters,\n",
    "                  'array1':array1,\n",
    "                  'array2':array2,\n",
    "                  'angle':angle,\n",
    "                  'cos_angle':cos_angle\n",
    "                 }\n",
    "dict_container"
   ]
  },
  {
   "cell_type": "code",
   "execution_count": 240,
   "id": "a8d76689",
   "metadata": {},
   "outputs": [
    {
     "data": {
      "text/html": [
       "<div>\n",
       "<style scoped>\n",
       "    .dataframe tbody tr th:only-of-type {\n",
       "        vertical-align: middle;\n",
       "    }\n",
       "\n",
       "    .dataframe tbody tr th {\n",
       "        vertical-align: top;\n",
       "    }\n",
       "\n",
       "    .dataframe thead th {\n",
       "        text-align: right;\n",
       "    }\n",
       "</style>\n",
       "<table border=\"1\" class=\"dataframe\">\n",
       "  <thead>\n",
       "    <tr style=\"text-align: right;\">\n",
       "      <th></th>\n",
       "      <th>greek_letters</th>\n",
       "      <th>array1</th>\n",
       "      <th>array2</th>\n",
       "      <th>angle</th>\n",
       "      <th>cos_angle</th>\n",
       "    </tr>\n",
       "  </thead>\n",
       "  <tbody>\n",
       "    <tr>\n",
       "      <th>0</th>\n",
       "      <td>alpha</td>\n",
       "      <td>9.636535</td>\n",
       "      <td>10.687300</td>\n",
       "      <td>5.537514</td>\n",
       "      <td>0.734633</td>\n",
       "    </tr>\n",
       "    <tr>\n",
       "      <th>1</th>\n",
       "      <td>beta</td>\n",
       "      <td>11.335677</td>\n",
       "      <td>10.023929</td>\n",
       "      <td>3.720308</td>\n",
       "      <td>-0.837166</td>\n",
       "    </tr>\n",
       "    <tr>\n",
       "      <th>2</th>\n",
       "      <td>gamma</td>\n",
       "      <td>9.675327</td>\n",
       "      <td>11.124535</td>\n",
       "      <td>2.248266</td>\n",
       "      <td>-0.626823</td>\n",
       "    </tr>\n",
       "    <tr>\n",
       "      <th>3</th>\n",
       "      <td>delta</td>\n",
       "      <td>8.065012</td>\n",
       "      <td>7.967812</td>\n",
       "      <td>0.701267</td>\n",
       "      <td>0.764025</td>\n",
       "    </tr>\n",
       "    <tr>\n",
       "      <th>4</th>\n",
       "      <td>epsilon</td>\n",
       "      <td>10.155069</td>\n",
       "      <td>9.563658</td>\n",
       "      <td>0.201235</td>\n",
       "      <td>0.979820</td>\n",
       "    </tr>\n",
       "    <tr>\n",
       "      <th>5</th>\n",
       "      <td>zeta</td>\n",
       "      <td>10.452243</td>\n",
       "      <td>11.204415</td>\n",
       "      <td>0.729558</td>\n",
       "      <td>0.745469</td>\n",
       "    </tr>\n",
       "    <tr>\n",
       "      <th>6</th>\n",
       "      <td>eta</td>\n",
       "      <td>9.586715</td>\n",
       "      <td>11.050506</td>\n",
       "      <td>5.763534</td>\n",
       "      <td>0.867992</td>\n",
       "    </tr>\n",
       "    <tr>\n",
       "      <th>7</th>\n",
       "      <td>theta</td>\n",
       "      <td>8.557165</td>\n",
       "      <td>9.920225</td>\n",
       "      <td>2.700304</td>\n",
       "      <td>-0.904202</td>\n",
       "    </tr>\n",
       "    <tr>\n",
       "      <th>8</th>\n",
       "      <td>iota</td>\n",
       "      <td>11.290043</td>\n",
       "      <td>9.623092</td>\n",
       "      <td>6.006211</td>\n",
       "      <td>0.961887</td>\n",
       "    </tr>\n",
       "  </tbody>\n",
       "</table>\n",
       "</div>"
      ],
      "text/plain": [
       "  greek_letters     array1     array2     angle  cos_angle\n",
       "0         alpha   9.636535  10.687300  5.537514   0.734633\n",
       "1          beta  11.335677  10.023929  3.720308  -0.837166\n",
       "2         gamma   9.675327  11.124535  2.248266  -0.626823\n",
       "3         delta   8.065012   7.967812  0.701267   0.764025\n",
       "4       epsilon  10.155069   9.563658  0.201235   0.979820\n",
       "5          zeta  10.452243  11.204415  0.729558   0.745469\n",
       "6           eta   9.586715  11.050506  5.763534   0.867992\n",
       "7         theta   8.557165   9.920225  2.700304  -0.904202\n",
       "8          iota  11.290043   9.623092  6.006211   0.961887"
      ]
     },
     "execution_count": 240,
     "metadata": {},
     "output_type": "execute_result"
    }
   ],
   "source": [
    "# Form a DataFrame from that dictionary, and print it out\n",
    "df = pd.DataFrame(dict_container)\n",
    "df"
   ]
  },
  {
   "cell_type": "code",
   "execution_count": 241,
   "id": "b60fcaa7",
   "metadata": {},
   "outputs": [
    {
     "data": {
      "text/html": [
       "<div>\n",
       "<style scoped>\n",
       "    .dataframe tbody tr th:only-of-type {\n",
       "        vertical-align: middle;\n",
       "    }\n",
       "\n",
       "    .dataframe tbody tr th {\n",
       "        vertical-align: top;\n",
       "    }\n",
       "\n",
       "    .dataframe thead th {\n",
       "        text-align: right;\n",
       "    }\n",
       "</style>\n",
       "<table border=\"1\" class=\"dataframe\">\n",
       "  <thead>\n",
       "    <tr style=\"text-align: right;\">\n",
       "      <th></th>\n",
       "      <th>greek_letters</th>\n",
       "      <th>array1</th>\n",
       "      <th>angle</th>\n",
       "    </tr>\n",
       "  </thead>\n",
       "  <tbody>\n",
       "    <tr>\n",
       "      <th>0</th>\n",
       "      <td>alpha</td>\n",
       "      <td>9.636535</td>\n",
       "      <td>5.537514</td>\n",
       "    </tr>\n",
       "    <tr>\n",
       "      <th>1</th>\n",
       "      <td>beta</td>\n",
       "      <td>11.335677</td>\n",
       "      <td>3.720308</td>\n",
       "    </tr>\n",
       "    <tr>\n",
       "      <th>2</th>\n",
       "      <td>delta</td>\n",
       "      <td>8.065012</td>\n",
       "      <td>0.701267</td>\n",
       "    </tr>\n",
       "    <tr>\n",
       "      <th>3</th>\n",
       "      <td>eta</td>\n",
       "      <td>9.586715</td>\n",
       "      <td>5.763534</td>\n",
       "    </tr>\n",
       "    <tr>\n",
       "      <th>4</th>\n",
       "      <td>gamma</td>\n",
       "      <td>9.675327</td>\n",
       "      <td>2.248266</td>\n",
       "    </tr>\n",
       "    <tr>\n",
       "      <th>5</th>\n",
       "      <td>iota</td>\n",
       "      <td>11.290043</td>\n",
       "      <td>6.006211</td>\n",
       "    </tr>\n",
       "    <tr>\n",
       "      <th>6</th>\n",
       "      <td>theta</td>\n",
       "      <td>8.557165</td>\n",
       "      <td>2.700304</td>\n",
       "    </tr>\n",
       "    <tr>\n",
       "      <th>7</th>\n",
       "      <td>zeta</td>\n",
       "      <td>10.452243</td>\n",
       "      <td>0.729558</td>\n",
       "    </tr>\n",
       "  </tbody>\n",
       "</table>\n",
       "</div>"
      ],
      "text/plain": [
       "  greek_letters     array1     angle\n",
       "0         alpha   9.636535  5.537514\n",
       "1          beta  11.335677  3.720308\n",
       "2         delta   8.065012  0.701267\n",
       "3           eta   9.586715  5.763534\n",
       "4         gamma   9.675327  2.248266\n",
       "5          iota  11.290043  6.006211\n",
       "6         theta   8.557165  2.700304\n",
       "7          zeta  10.452243  0.729558"
      ]
     },
     "execution_count": 241,
     "metadata": {},
     "output_type": "execute_result"
    }
   ],
   "source": [
    "# Sort the DataFrame ascending on the Greek letters, \n",
    "# drop two columns of your choice, drop one of the rows, \n",
    "# and print that out.\n",
    "df_update = df.sort_values(['greek_letters'],ascending=True)\\\n",
    "                .drop(['array2','cos_angle'],axis=1)\\\n",
    "                .drop(index=4,axis=0)\\\n",
    "                .reset_index(drop=True)\n",
    "df_update"
   ]
  },
  {
   "cell_type": "markdown",
   "id": "0862be6d",
   "metadata": {},
   "source": [
    "### Assignment 1, Part 3: \n",
    "Write a program in Python to create and print out the first 12 Fibonacci numbers. Then iterate over the last five numbers to build another list with the ratio of each number to its predecessor. What do you observe about this latter list?"
   ]
  },
  {
   "cell_type": "code",
   "execution_count": 242,
   "id": "92227e04",
   "metadata": {},
   "outputs": [
    {
     "name": "stdout",
     "output_type": "stream",
     "text": [
      "Fibonacci numbers: [0, 1, 1, 2, 3, 5, 8, 13, 21, 34, 55, 89]\n",
      "Ratio: [1.6181818181818182, 1.6176470588235294, 1.619047619047619, 1.6153846153846154, 1.625]\n"
     ]
    }
   ],
   "source": [
    "def fib(n=11):\n",
    "    if n<2:\n",
    "        return n\n",
    "    fibs = [0,1]\n",
    "    for i in range(2, n+1):\n",
    "        next = fibs[-1]+fibs[-2]\n",
    "        fibs.append(next)\n",
    "    print('Fibonacci numbers:', fibs)\n",
    "    \n",
    "    fib_ratio=[]\n",
    "    for i in range(5): \n",
    "        last = fibs.pop()\n",
    "        pred = fibs[-1]\n",
    "        fib_ratio.append(last/pred)\n",
    "        #print(fibs)\n",
    "    print('Ratio:', fib_ratio)\n",
    "\n",
    "fib()"
   ]
  },
  {
   "cell_type": "markdown",
   "id": "1db40bd9",
   "metadata": {},
   "source": [
    "The quotient between each successive pair of Fibonacci numbers approximates 1.618, or its inverse 0.618"
   ]
  },
  {
   "cell_type": "markdown",
   "id": "b62952fe",
   "metadata": {},
   "source": [
    "### Assignment 1, Part 4: \n",
    "Provide a function that converts temperature in Kelvin to Rankine. Make a list of five Kelvin temperatures, and print out their values in Rankine. Repeat using a lambda function."
   ]
  },
  {
   "cell_type": "code",
   "execution_count": 243,
   "id": "24435954",
   "metadata": {},
   "outputs": [
    {
     "data": {
      "text/plain": [
       "180.0"
      ]
     },
     "execution_count": 243,
     "metadata": {},
     "output_type": "execute_result"
    }
   ],
   "source": [
    "# Provide a function that converts temperature in Kelvin to Rankine \n",
    "def kelvin_to_rankine(k): \n",
    "    r = 1.8*k\n",
    "    return r\n",
    "kelvin_to_rankine(100)"
   ]
  },
  {
   "cell_type": "code",
   "execution_count": 244,
   "id": "59ea1384",
   "metadata": {},
   "outputs": [
    {
     "name": "stdout",
     "output_type": "stream",
     "text": [
      "180.0\n",
      "270.0\n",
      "360.0\n",
      "450.0\n",
      "540.0\n"
     ]
    }
   ],
   "source": [
    "# Make a list of five Kelvin temperatures, and print out their values in Rankine\n",
    "k_temps = [100,150,200,250,300]\n",
    "for tmp in k_temps:\n",
    "    print(kelvin_to_rankine(tmp))"
   ]
  },
  {
   "cell_type": "code",
   "execution_count": 245,
   "id": "81a6cde6",
   "metadata": {},
   "outputs": [
    {
     "name": "stdout",
     "output_type": "stream",
     "text": [
      "180.0\n",
      "270.0\n",
      "360.0\n",
      "450.0\n",
      "540.0\n"
     ]
    }
   ],
   "source": [
    "# Repeat using a lambda function\n",
    "conversion = lambda x: 1.8*x\n",
    "print(*list(map(conversion, k_temps)),sep='\\n')"
   ]
  }
 ],
 "metadata": {
  "kernelspec": {
   "display_name": "Python 3 (ipykernel)",
   "language": "python",
   "name": "python3"
  },
  "language_info": {
   "codemirror_mode": {
    "name": "ipython",
    "version": 3
   },
   "file_extension": ".py",
   "mimetype": "text/x-python",
   "name": "python",
   "nbconvert_exporter": "python",
   "pygments_lexer": "ipython3",
   "version": "3.10.0"
  }
 },
 "nbformat": 4,
 "nbformat_minor": 5
}
