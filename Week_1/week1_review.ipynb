{
 "cells": [
  {
   "cell_type": "markdown",
   "id": "5efb0889",
   "metadata": {
    "slideshow": {
     "slide_type": "slide"
    }
   },
   "source": [
    "# Data Visualization: Live Session 1\n",
    "\n",
    "## Session Overview\n",
    "\n",
    "+ Cource Overview\n",
    "    - Expectations\n",
    "    - Syllabus\n",
    "    - Assignments\n",
    "\n",
    "\n",
    "+ Introductions\n",
    "    - Where are you (geographically)?\n",
    "    - What kind of visualization tools have you used?\n",
    "    \n",
    "\n",
    "+ A thrilling review of some essential concepts and packages\n",
    "    - \\*args and \\*\\*kwargs\n",
    "    - numpy\n",
    "    - pandas\n",
    "\n",
    "\n",
    "+ In-class activity\n",
    "\n",
    "\n",
    "+ Overview of Assignment 1\n",
    "\n",
    "\n",
    "+ Questions"
   ]
  },
  {
   "cell_type": "markdown",
   "id": "1467b93b",
   "metadata": {},
   "source": [
    "## Packages you'll need for this course:\n",
    "_Note that geopandas can be tricky to install._\n",
    "\n",
    "_I've posted a requirements.txt file to the files section on 2DU that should build a good venv for this course._\n",
    "+ numpy\n",
    "+ pandas\n",
    "+ matplotlib\n",
    "+ seaborn\n",
    "+ geopy\n",
    "+ folium\n",
    "+ shapely\n",
    "+ geopandas\n",
    "+ yfinance\n",
    "+ ipykernel \n",
    "+ plotly\n",
    "+ dash"
   ]
  },
  {
   "cell_type": "markdown",
   "id": "2a5e5157",
   "metadata": {},
   "source": [
    "### Adding Virtual Environment as an ipykernel\n",
    "\n",
    "Opening a Jupyter session will utilize the default Python3 ipykernel. However, you can add your virtual envvironment as a kernel to use in Jupyter.\n",
    "\n",
    " - Activate the virtual environment you want to add.\n",
    " - From your virtual environment directory, run pip install ipykernel\n",
    " - Run: ipython kernel install --user --name=name_of_venv\n",
    " - To uninstall a kernel run: jupyter kernelspec uninstall name_of_venv\n",
    " - When you open a Jupyter session you should now be able to select the kernel you've created from your virtual environment."
   ]
  },
  {
   "cell_type": "markdown",
   "id": "b1d1b708",
   "metadata": {
    "slideshow": {
     "slide_type": "slide"
    }
   },
   "source": [
    "#### Charles Joseph Minard's map of Napoleon's Russian Campaign of 1812\n",
    "<img src=\"https://www.researchgate.net/profile/Robert-Strohmaier/publication/277098952/figure/fig5/AS:294635642605574@1447258019690/Charles-Joseph-Minards-visualization-of-Napoleons-Russian-campaign-of-1812-Friendly.png\"/>"
   ]
  },
  {
   "cell_type": "markdown",
   "id": "da4e2225",
   "metadata": {
    "slideshow": {
     "slide_type": "slide"
    }
   },
   "source": [
    "#### Edward Tufte\n",
    "<img src=\"http://prod-upp-image-read.ft.com/6e52bc30-f4d3-11e2-a62e-00144feabdc0\" width=\"400\" height=\"300\"/>"
   ]
  },
  {
   "cell_type": "code",
   "execution_count": null,
   "id": "b8e6d6e6",
   "metadata": {
    "scrolled": true,
    "slideshow": {
     "slide_type": "slide"
    }
   },
   "outputs": [],
   "source": [
    "from IPython.display import YouTubeVideo\n",
    "vid = YouTubeVideo(\"jbkSRLYSojo\", width=900, height=500, allow_autoplay=False)\n",
    "display(vid)"
   ]
  },
  {
   "cell_type": "markdown",
   "id": "1bc3a313",
   "metadata": {},
   "source": [
    "### *args and **kwargs review\n",
    "a single * is the unpacking operator for iterables\n",
    "\n",
    "a double ** is the unpacking operator for dictionaries"
   ]
  },
  {
   "cell_type": "code",
   "execution_count": null,
   "id": "30f07813",
   "metadata": {},
   "outputs": [],
   "source": [
    "# suppose we want to create a function to sum to variables\n",
    "def sum_it(a, b):\n",
    "    return a + b"
   ]
  },
  {
   "cell_type": "code",
   "execution_count": null,
   "id": "8d5c3cff",
   "metadata": {},
   "outputs": [],
   "source": [
    "# now suppose we want to be able to extend this function to be able\n",
    "# to sum n digits.\n",
    "def sum_it(int_list):\n",
    "    total = 0\n",
    "    for i in int_list:\n",
    "        total += i\n",
    "    return total\n",
    "\n",
    "some_ints = [1, 2, 3, 4]\n",
    "print(sum_it(some_ints))"
   ]
  },
  {
   "cell_type": "code",
   "execution_count": null,
   "id": "d07b47c0",
   "metadata": {},
   "outputs": [],
   "source": [
    "# This works nicely, but we need to put the elements to sum in a list\n",
    "# before we call the function on them.\n",
    "\n",
    "def sum_it(*args):\n",
    "    total = 0\n",
    "    for i in args:\n",
    "        total += i\n",
    "    return total"
   ]
  },
  {
   "cell_type": "code",
   "execution_count": null,
   "id": "0848cb2b",
   "metadata": {},
   "outputs": [],
   "source": [
    "# now we're not passing a list.  We're passing positional arguments.\n",
    "# our function takes these arguments and packs them into an iterable object (tuple)\n",
    "# called args. args is not a keyword we could just as well say *numbers.\n",
    "# The unpacking operator * is the important part.\n",
    "print(sum_it(1, 2, 3, 4, 5, 6, 18))"
   ]
  },
  {
   "cell_type": "code",
   "execution_count": null,
   "id": "37c55a1e",
   "metadata": {},
   "outputs": [],
   "source": [
    "# **kwargs is similar to *args, but it accepts keyword arguments instead\n",
    "# of positional arguments.\n",
    "def multiple_ops(**kwargs):\n",
    "    initial_sum = kwargs['add_1'] + kwargs['add_2']\n",
    "    try:\n",
    "        if kwargs['operation'] == 'div':\n",
    "            return initial_sum / kwargs['mult_div']\n",
    "    except KeyError:\n",
    "        return initial_sum * kwargs['mult_div']"
   ]
  },
  {
   "cell_type": "code",
   "execution_count": null,
   "id": "4d8ec361",
   "metadata": {},
   "outputs": [],
   "source": [
    "# here we pass a dictionary to our function (although, note that\n",
    "# it isn't defined with curly braces).  Think of the keywords as keys and the values\n",
    "# as values.\n",
    "multiple_ops(add_1=7, add_2=8, mult_div=2)"
   ]
  },
  {
   "cell_type": "code",
   "execution_count": null,
   "id": "4c9660bc",
   "metadata": {},
   "outputs": [],
   "source": [
    "multiple_ops(add_1=7, add_2=8, mult_div=2, operation='div')"
   ]
  },
  {
   "cell_type": "markdown",
   "id": "c5841f58",
   "metadata": {},
   "source": [
    "#### Again, the name kwargs is just a convention. We're really concerned with the ** unpacking operator."
   ]
  },
  {
   "cell_type": "code",
   "execution_count": null,
   "id": "0ff3522a",
   "metadata": {},
   "outputs": [],
   "source": [
    "# An example using *args and **kwargs\n",
    "# This function takes *args and *kwargs as parameters.\n",
    "# The function loops through all arg values and multiplies them to get iterations.\n",
    "# We then loop over the range of iterations and if the iterator is even\n",
    "# we print kwargs values else we print kwargs keys.\n",
    "\n",
    "def do_something(*args, **kwargs):\n",
    "    iterations = 1\n",
    "    for arg in args:\n",
    "        iterations *= arg\n",
    "\n",
    "    for i in range(iterations):\n",
    "        if i % 2 == 0:\n",
    "            print(f'{i} is even')\n",
    "            print(kwargs.values())\n",
    "        else:\n",
    "            print(f'{i} is odd')\n",
    "            print(kwargs.keys())\n",
    "\n",
    "do_something(1, 2, 3, 4, 5, foo = 'hello', bar = 'hi')"
   ]
  },
  {
   "cell_type": "code",
   "execution_count": null,
   "id": "c7501f3b",
   "metadata": {},
   "outputs": [],
   "source": [
    "# what happens if I try to specify the key word arguments before the positional arguments?\n",
    "do_something(bar = 'hi', foo = 'hello', 1, 2, 3)"
   ]
  },
  {
   "cell_type": "code",
   "execution_count": null,
   "id": "21c323a7",
   "metadata": {},
   "outputs": [],
   "source": [
    "# another function using *kwargs\n",
    "def p_func(**kwargs):\n",
    "    for i in kwargs.values():\n",
    "        print(i)"
   ]
  },
  {
   "cell_type": "code",
   "execution_count": null,
   "id": "6becf504",
   "metadata": {},
   "outputs": [],
   "source": [
    "# Notice the error generated when we call the function on the following input.\n",
    "p_func('a', 'b', 'c', 'd')"
   ]
  },
  {
   "cell_type": "code",
   "execution_count": null,
   "id": "59074f34",
   "metadata": {},
   "outputs": [],
   "source": [
    "p_func(arg1 = 'a', arg2 = 'b', arg3 = 'c', arg4 = 'b')"
   ]
  },
  {
   "cell_type": "markdown",
   "id": "5e541ddf",
   "metadata": {},
   "source": [
    "#### Writing functions with standard arguments, *args and *kwargs\n",
    "Note that the order is critical here.\n",
    "Standard arguments precede *args, which precede **kwargs.\n",
    "\n",
    "Note that the single unpacking operator (\\*) can be used on any iterable.\n",
    "The ** unpacking operator can only be used on dicts."
   ]
  },
  {
   "cell_type": "code",
   "execution_count": null,
   "id": "61e3f38a",
   "metadata": {},
   "outputs": [],
   "source": [
    "# to get a better sense of what the unpacking operator does\n",
    "# notice how calling print on the list prints the brackets, commas and quotes (the list itself)\n",
    "print(['foo', 'bar'])\n",
    "# calling print on the unpacked list prints just the list content\n",
    "print(*['foo', 'bar'])\n",
    "\n",
    "# this is the same as calling print with two arguments...\n",
    "print('foo', 'bar')"
   ]
  },
  {
   "cell_type": "code",
   "execution_count": null,
   "id": "51a077dd",
   "metadata": {},
   "outputs": [],
   "source": [
    "# passing unpacked args to a function with a specified number of arguments\n",
    "def print_something(a, b):\n",
    "    print(a, b)"
   ]
  },
  {
   "cell_type": "code",
   "execution_count": null,
   "id": "780a9af3",
   "metadata": {},
   "outputs": [],
   "source": [
    "# this allows us to pass in the two required parameters with unpacking\n",
    "print_something(*['foo', 'bar'])"
   ]
  },
  {
   "cell_type": "code",
   "execution_count": null,
   "id": "f02cc381",
   "metadata": {},
   "outputs": [],
   "source": [
    "# here we're unpacking too many values\n",
    "print_something(*['foo', 'bar', 'norf'])"
   ]
  },
  {
   "cell_type": "code",
   "execution_count": null,
   "id": "4919eef0",
   "metadata": {},
   "outputs": [],
   "source": [
    "# another printing function using *args\n",
    "def print_something(*args):\n",
    "    hold = ''\n",
    "    for i in args:\n",
    "        hold += str(i) + ' '\n",
    "    print(hold)\n",
    "\n",
    "# consider passing multiple lists to the above function.\n",
    "# the unpacking operator in *args will treat these as a tuple of lists.\n",
    "\n",
    "# we can use unpacking operators on our function inputs as well as within the function.\n",
    "# Here we use multiple unpacking operators to unpack three lists and pass those values\n",
    "# as *args...they will then be packed into a tuple and further unpacked within the function.\n",
    "print_something(*[1, 2, 3], *[4, 5, 6], *[7, 8, 9])\n",
    "\n",
    "# without the additional level of unpacking we're just concatenating the lists\n",
    "print_something([1, 2, 3], [4, 5, 6], [7, 8, 9])"
   ]
  },
  {
   "cell_type": "markdown",
   "id": "6aa8969f",
   "metadata": {},
   "source": [
    "### Now a bit of numpy review.\n",
    "\n",
    "Matplotlib uses the numpy ndarray data structure, so it's important to have a good grasp on these."
   ]
  },
  {
   "cell_type": "code",
   "execution_count": null,
   "id": "2687fd78",
   "metadata": {},
   "outputs": [],
   "source": [
    "import numpy as np\n",
    "\n",
    "# numpy's array method takes any list, tuple or array-like object and converts it to an ndarray\n",
    "\n",
    "an_array = np.array([i for i in range(10)])\n",
    "print(an_array)\n",
    "print(type(an_array))"
   ]
  },
  {
   "cell_type": "code",
   "execution_count": null,
   "id": "8299300f",
   "metadata": {},
   "outputs": [],
   "source": [
    "# nested arrays are arrays that have arrays as values\n",
    "\n",
    "# a 0-D array is just a scalar...each value in a 1D array is a 0-D array itself\n",
    "scalar = np.array(20)"
   ]
  },
  {
   "cell_type": "code",
   "execution_count": null,
   "id": "8e83870a",
   "metadata": {},
   "outputs": [],
   "source": [
    "# a 1-D array has scalars as its elements.  Think of a single vector of scalars.\n",
    "basic_array = np.array([1, 2, 3, 4, 5])\n",
    "print(basic_array)"
   ]
  },
  {
   "cell_type": "code",
   "execution_count": null,
   "id": "770798d1",
   "metadata": {},
   "outputs": [],
   "source": [
    "# a 2-D array is just an array of arrays. Think of a matrix or table.\n",
    "two_dim_array = np.array([[1, 2, 3], [4, 5, 6]])\n",
    "print(two_dim_array)\n",
    "\n",
    "# we can evaluate the shape attribute of ndarrays as well\n",
    "print(two_dim_array.shape)"
   ]
  },
  {
   "cell_type": "code",
   "execution_count": null,
   "id": "e9c88ccf",
   "metadata": {},
   "outputs": [],
   "source": [
    "# a 3-D array has 2-D array elements.\n",
    "three_dim_array = np.array([[[2, 4, 6], [8, 10, 12]], [[14, 16, 18], [20, 22, 24]]])\n",
    "print(three_dim_array)"
   ]
  },
  {
   "cell_type": "code",
   "execution_count": null,
   "id": "30df6725",
   "metadata": {},
   "outputs": [],
   "source": [
    "# the ndim attribute gives the number of dimensions in an ndarray\n",
    "print(three_dim_array.ndim)"
   ]
  },
  {
   "cell_type": "code",
   "execution_count": null,
   "id": "9d7b17c5",
   "metadata": {},
   "outputs": [],
   "source": [
    "# Note that ndarrays can have any number of dimensions.\n",
    "# np.array() takes an optional argument ndmin to specify dimensions."
   ]
  },
  {
   "cell_type": "markdown",
   "id": "140ce1aa",
   "metadata": {},
   "source": [
    "### Indexing ndarrays"
   ]
  },
  {
   "cell_type": "code",
   "execution_count": null,
   "id": "4b5983c7",
   "metadata": {},
   "outputs": [],
   "source": [
    "# to index 2D arrays we use comma separated values to address dimension and index\n",
    "# think of the 1st dimension as the row and the index as the column\n",
    "two_dim = np.array([[1, 2, 3], [4, 5, 6]])"
   ]
  },
  {
   "cell_type": "code",
   "execution_count": null,
   "id": "94f175b6",
   "metadata": {},
   "outputs": [],
   "source": [
    "print(two_dim[1, 2])"
   ]
  },
  {
   "cell_type": "code",
   "execution_count": null,
   "id": "b5ea0a86",
   "metadata": {},
   "outputs": [],
   "source": [
    "print(two_dim[0, 0])"
   ]
  },
  {
   "cell_type": "code",
   "execution_count": null,
   "id": "cc7a5b47",
   "metadata": {},
   "outputs": [],
   "source": [
    "# higher dimensional arrays are indexed similarly, the first integer represents the first dimension,\n",
    "# the second integer represents the second dimension and so on.\n",
    "three_dim = np.array([[[1, 2, 3], [4, 5, 6]], [[7, 8, 9], [10, 11, 12]]])\n",
    "print(three_dim)"
   ]
  },
  {
   "cell_type": "code",
   "execution_count": null,
   "id": "2ba1fd97",
   "metadata": {},
   "outputs": [],
   "source": [
    "print(three_dim[0, 1, 2]) # prints third element of second array of first array"
   ]
  },
  {
   "cell_type": "code",
   "execution_count": null,
   "id": "38e23336",
   "metadata": {},
   "outputs": [],
   "source": [
    "# above the 0 allows us to access the first 2D array...see below\n",
    "print(three_dim[0])"
   ]
  },
  {
   "cell_type": "code",
   "execution_count": null,
   "id": "3a4836a7",
   "metadata": {},
   "outputs": [],
   "source": [
    "# from there on the next two positions are just accessing values within the first 2D array\n",
    "print(three_dim[0, 1]) # this returns second row from first 2D array"
   ]
  },
  {
   "cell_type": "code",
   "execution_count": null,
   "id": "8a0d9d6d",
   "metadata": {},
   "outputs": [],
   "source": [
    "# We can use negative indexing as well.\n",
    "# Here we access the last element of the last row of the last 2D array.\n",
    "print(three_dim[-1, -1, -1])"
   ]
  },
  {
   "cell_type": "code",
   "execution_count": null,
   "id": "58422107",
   "metadata": {},
   "outputs": [],
   "source": [
    "# and here we access the first element of the last row of the first 2D array\n",
    "print(three_dim[0, -1, 0])"
   ]
  },
  {
   "cell_type": "markdown",
   "id": "4b470018",
   "metadata": {},
   "source": [
    "### Slicing ndarrays\n",
    "\n",
    "Slicing is also similar to what we've experienced with lists and tuples\n",
    "we slice with [start: end] or [start: end: step]\n",
    "as before, omitting the starting index assumes zero\n",
    "and omitting the end assumes the length of the array"
   ]
  },
  {
   "cell_type": "code",
   "execution_count": null,
   "id": "653ddb35",
   "metadata": {},
   "outputs": [],
   "source": [
    "# We'll skip an explanation of slicing 1D arrays and jump to higher dimensions\n",
    "two_dim = np.array([[1, 2, 3, 4], [5, 6, 7, 8]])"
   ]
  },
  {
   "cell_type": "code",
   "execution_count": null,
   "id": "840831d0",
   "metadata": {},
   "outputs": [],
   "source": [
    "# Here we're slicing from index 1 to 3 of the second dimension (dimension index 1)\n",
    "print(two_dim[1, 1:3])"
   ]
  },
  {
   "cell_type": "code",
   "execution_count": null,
   "id": "6de740b9",
   "metadata": {},
   "outputs": [],
   "source": [
    "# Now we're accessing the last two values from both dimensions\n",
    "# This will return a 2D array\n",
    "print(two_dim[0:2, 2:4])"
   ]
  },
  {
   "cell_type": "code",
   "execution_count": null,
   "id": "cafce3bf",
   "metadata": {},
   "outputs": [],
   "source": [
    "# the following does the same as the preceding line\n",
    "print(two_dim[:, 2:4])"
   ]
  },
  {
   "cell_type": "code",
   "execution_count": null,
   "id": "b3918719",
   "metadata": {},
   "outputs": [],
   "source": [
    "# 3D arrays are sliced similarly\n",
    "three_dim = np.array([[[1, 2, 3, 4], [5, 6, 7, 8]], [[9, 10, 11, 12], [13, 14, 15, 16]]])\n",
    "print(three_dim)"
   ]
  },
  {
   "cell_type": "code",
   "execution_count": null,
   "id": "c3c0a3d2",
   "metadata": {},
   "outputs": [],
   "source": [
    "# accessing last two elements of last row of second 2D array.\n",
    "print(three_dim[1, 1, 2:])"
   ]
  },
  {
   "cell_type": "code",
   "execution_count": null,
   "id": "f120c84c",
   "metadata": {},
   "outputs": [],
   "source": [
    "# returns a 2D array\n",
    "print(three_dim[0:2, 1, 1:])"
   ]
  },
  {
   "cell_type": "code",
   "execution_count": null,
   "id": "5a073719",
   "metadata": {},
   "outputs": [],
   "source": [
    "# returns a 3D array\n",
    "print(three_dim[0:2, 0:2, 1:])"
   ]
  },
  {
   "cell_type": "code",
   "execution_count": null,
   "id": "e1452ad5",
   "metadata": {},
   "outputs": [],
   "source": [
    "# Data Types\n",
    "# Numpy arrays are homogenous, but multiple datatypes are supported.\n",
    "# Numpy supports strings (S), integers (i), floats (f), bools (b) and complex numbers (c)\n",
    "# and also has some additional data types such as:\n",
    "# unsigned integer (u), timedelta (m), datetime (M), object (O), unicode string (U)"
   ]
  },
  {
   "cell_type": "code",
   "execution_count": null,
   "id": "87d0ba21",
   "metadata": {},
   "outputs": [],
   "source": [
    "# oftentimes you need to cast an entire array to another type\n",
    "# numpy offers the method astype() which takes the new type as a parameter and returns a copy.\n",
    "# datatypes can be specified with the single char version or the name. For example 'f' or float.\n",
    "\n",
    "an_array = np.array([1, 2, 3, 4, 5, 11])\n",
    "an_array = an_array.astype('S1')\n",
    "print(an_array.dtype)\n",
    "print(an_array)"
   ]
  },
  {
   "cell_type": "code",
   "execution_count": null,
   "id": "e85c3c90",
   "metadata": {},
   "outputs": [],
   "source": [
    "# notice the truncation that occurs when casting to single byte string\n",
    "\n",
    "an_array = an_array.astype('S2')\n",
    "print(an_array.dtype)\n",
    "print(an_array)"
   ]
  },
  {
   "cell_type": "markdown",
   "id": "06d2e8fa",
   "metadata": {},
   "source": [
    "### copy() and view() methods\n",
    "These concepts are related to the aliasing of variables\n",
    "\n",
    "In numpy we can use the copy() method to make copies of arrays.\n",
    "Changes made to the original or the copy have no impact on another.\n",
    "A view() of an array just points to the original array, so changes made\n",
    "to the original or the view will impact the other."
   ]
  },
  {
   "cell_type": "code",
   "execution_count": null,
   "id": "750ad840",
   "metadata": {},
   "outputs": [],
   "source": [
    "# .copy()\n",
    "an_array = np.array([1, 2, 3, 4])\n",
    "a_copy = an_array.copy()"
   ]
  },
  {
   "cell_type": "code",
   "execution_count": null,
   "id": "30634e8c",
   "metadata": {},
   "outputs": [],
   "source": [
    "an_array[0] = 99\n",
    "a_copy[1] = 99"
   ]
  },
  {
   "cell_type": "code",
   "execution_count": null,
   "id": "99213deb",
   "metadata": {},
   "outputs": [],
   "source": [
    "print(an_array)\n",
    "print(a_copy)"
   ]
  },
  {
   "cell_type": "code",
   "execution_count": null,
   "id": "b78be9b1",
   "metadata": {},
   "outputs": [],
   "source": [
    "# .view()\n",
    "an_array = np.array([1, 2, 3, 4])\n",
    "a_view = an_array.view()"
   ]
  },
  {
   "cell_type": "code",
   "execution_count": null,
   "id": "b2528a6a",
   "metadata": {},
   "outputs": [],
   "source": [
    "an_array[0] = 99\n",
    "a_view[1] = 99"
   ]
  },
  {
   "cell_type": "code",
   "execution_count": null,
   "id": "a1e2d5f9",
   "metadata": {},
   "outputs": [],
   "source": [
    "print(an_array)\n",
    "print(a_view)"
   ]
  },
  {
   "cell_type": "code",
   "execution_count": null,
   "id": "eb3062bc",
   "metadata": {},
   "outputs": [],
   "source": [
    "# We can think about this in terms of ownership of the data.\n",
    "# A copy owns the data and a view does not.\n",
    "# Data ownership can be assessed using the base attribute of an ndarray.\n",
    "\n",
    "an_array = np.array([1, 2, 3, 4])\n",
    "a_copy = an_array.copy()\n",
    "a_view = an_array.view()"
   ]
  },
  {
   "cell_type": "code",
   "execution_count": null,
   "id": "177ffa3e",
   "metadata": {},
   "outputs": [],
   "source": [
    "# If the array owns the data the base attribute will return None\n",
    "# If not the base attribute returns a reference to the original object\n",
    "\n",
    "print(a_copy.base)\n",
    "print(a_view.base)"
   ]
  },
  {
   "cell_type": "code",
   "execution_count": null,
   "id": "1c963b5b",
   "metadata": {},
   "outputs": [],
   "source": [
    "# if we modify an element in the original array returned from the base attribute\n",
    "# it will modify the original array.\n",
    "\n",
    "a_view.base[0] = 99"
   ]
  },
  {
   "cell_type": "code",
   "execution_count": null,
   "id": "e42eab2e",
   "metadata": {},
   "outputs": [],
   "source": [
    "# now if we print the original array, the copy and the view,\n",
    "# the original and the view will have been modified by the preceding statement.\n",
    "# this will have an impact on any views of the base array as well.\n",
    "\n",
    "print(an_array)\n",
    "print(a_copy)\n",
    "print(a_view)"
   ]
  },
  {
   "cell_type": "code",
   "execution_count": null,
   "id": "22a6f883",
   "metadata": {},
   "outputs": [],
   "source": [
    "# the shape attribute returns a tuple (of length .ndim) with the corresponding number of elements in that index\n",
    "one_dim = np.array([1, 2, 3, 4])\n",
    "two_dim = np.array([[1, 2, 3, 4], [5, 6, 7, 8]])\n",
    "three_dim = np.array([[[1, 2, 3, 4], [5, 6, 7, 8], [9, 10, 11, 12]], [[1, 2, 3, 4], [5, 6, 7, 8], [9, 10, 11, 12]]])"
   ]
  },
  {
   "cell_type": "code",
   "execution_count": null,
   "id": "576a357a",
   "metadata": {},
   "outputs": [],
   "source": [
    "print(one_dim.shape) # one dimension with 4 elements\n",
    "print(two_dim.shape) # two dimensions with 4 elements. Or two rows and 4 columns.\n",
    "print(three_dim.shape) # three dimensions. Two three x four 2D arrays."
   ]
  },
  {
   "cell_type": "code",
   "execution_count": null,
   "id": "016b3c3b",
   "metadata": {},
   "outputs": [],
   "source": [
    "# reshape()\n",
    "# The reshape method allows us to change the shape of an array or add/remove elements from dimensions.\n",
    "# You can reshape into any array as long as you have enough elements to achieve that shape.\n",
    "# for example, if we had a 1D array of length 9 then we couldn't reshape into a 2D array of shape (2, 5)\n",
    "an_array = np.array([i for i in range(1, 21)])\n",
    "\n",
    "new_array = an_array.reshape(4, 5)\n",
    "print(new_array)"
   ]
  },
  {
   "cell_type": "code",
   "execution_count": null,
   "id": "56ee078d",
   "metadata": {},
   "outputs": [],
   "source": [
    "# Note that reshaping returns a view\n",
    "print(an_array.reshape(2, 5, 2).base)"
   ]
  },
  {
   "cell_type": "code",
   "execution_count": null,
   "id": "56b52049",
   "metadata": {},
   "outputs": [],
   "source": [
    "an_array.reshape(2, 5, 2)[0, 0, 0] = 99\n",
    "print(an_array)"
   ]
  },
  {
   "cell_type": "code",
   "execution_count": null,
   "id": "ae922457",
   "metadata": {},
   "outputs": [],
   "source": [
    "# Note that we can avoid this by creating a copy of the view.\n",
    "one_dim = np.array([1, 2, 3, 4, 5, 6, 7, 8])\n",
    "two_dim = one_dim.reshape(4, 2).copy()\n",
    "two_dim[0, 0] = 99\n",
    "print(two_dim.base)\n",
    "print(two_dim)\n",
    "print(one_dim)"
   ]
  },
  {
   "cell_type": "code",
   "execution_count": null,
   "id": "55de24ad",
   "metadata": {},
   "outputs": [],
   "source": [
    "# We can also initialize the values of the array generally\n",
    "\n",
    "# np.zeros() takes a shape and will initialize an ndarray\n",
    "print(np.zeros(10))"
   ]
  },
  {
   "cell_type": "code",
   "execution_count": null,
   "id": "0b8f35c4",
   "metadata": {},
   "outputs": [],
   "source": [
    "three_dim_z = np.zeros((2,3,4))\n",
    "print(three_dim_z)"
   ]
  },
  {
   "cell_type": "code",
   "execution_count": null,
   "id": "1d721ee3",
   "metadata": {},
   "outputs": [],
   "source": [
    "# np.ones()\n",
    "print(np.ones(10))"
   ]
  },
  {
   "cell_type": "code",
   "execution_count": null,
   "id": "e17ffd23",
   "metadata": {},
   "outputs": [],
   "source": [
    "two_dim_ones = np.ones((4,4))\n",
    "print(two_dim_ones)"
   ]
  },
  {
   "cell_type": "code",
   "execution_count": null,
   "id": "0875e0e6",
   "metadata": {},
   "outputs": [],
   "source": [
    "# np.random.random()...continuous uniform draws\n",
    "print(np.random.random(10))"
   ]
  },
  {
   "cell_type": "code",
   "execution_count": null,
   "id": "49e9ff84",
   "metadata": {},
   "outputs": [],
   "source": [
    "two_dim_rand = np.random.random((4, 4))\n",
    "print(two_dim_rand)"
   ]
  },
  {
   "cell_type": "code",
   "execution_count": null,
   "id": "172acbc7",
   "metadata": {},
   "outputs": [],
   "source": [
    "# np.arange() similar to range()...takes start stop and step values\n",
    "\n",
    "three_dim = np.arange(1, 51).reshape(5, 2, 5)\n",
    "print(three_dim)"
   ]
  },
  {
   "cell_type": "code",
   "execution_count": null,
   "id": "a990b354",
   "metadata": {},
   "outputs": [],
   "source": [
    "# There are a number of array methods that provide valuable aggregate information\n",
    "# .min(), .max(), .sum(), mean(), std()\n",
    "print(two_dim_rand.max())\n",
    "print(two_dim_rand.min())\n",
    "print(two_dim_rand.sum())\n",
    "print(two_dim_rand.mean())\n",
    "print(two_dim_rand.std())"
   ]
  },
  {
   "cell_type": "code",
   "execution_count": null,
   "id": "64e681e4",
   "metadata": {},
   "outputs": [],
   "source": [
    "# get the mean of first column of two_dim_rand\n",
    "print(two_dim_rand[:,0].mean())"
   ]
  },
  {
   "cell_type": "code",
   "execution_count": null,
   "id": "c0c8ca3e",
   "metadata": {},
   "outputs": [],
   "source": [
    "# we can specify the axis of the ndarray to accomplish this as well\n",
    "# axis 0 computes along rows and axis 1 computes along columns\n",
    "print(two_dim_rand.mean(axis=1)) # aggregates along column, so will return means for each row\n",
    "print(two_dim_rand.mean(axis=0)) # aggregates along rows, so will return means for each column"
   ]
  },
  {
   "cell_type": "code",
   "execution_count": null,
   "id": "ecb2b949",
   "metadata": {},
   "outputs": [],
   "source": [
    "# Iterating over ndarrays\n",
    "\n",
    "# prints elements\n",
    "for i in np.array([i for i in range(10)]):\n",
    "    print(i)"
   ]
  },
  {
   "cell_type": "code",
   "execution_count": null,
   "id": "2c6193c1",
   "metadata": {},
   "outputs": [],
   "source": [
    "# prints rows\n",
    "for i in np.arange(1,21).reshape(4, 5):\n",
    "    print(i)"
   ]
  },
  {
   "cell_type": "code",
   "execution_count": null,
   "id": "79706f26",
   "metadata": {},
   "outputs": [],
   "source": [
    "# prints 2-D matrices\n",
    "np.random.seed(101)\n",
    "\n",
    "for i in np.random.random((2,5,2)):\n",
    "    print('element\\n', i)"
   ]
  },
  {
   "cell_type": "code",
   "execution_count": null,
   "id": "95358415",
   "metadata": {},
   "outputs": [],
   "source": [
    "# nditer()\n",
    "# returns an iterator over the array\n",
    "\n",
    "np.random.seed(101)\n",
    "\n",
    "for i in np.nditer(np.random.random((2,5,2))):\n",
    "    print(i)"
   ]
  },
  {
   "cell_type": "code",
   "execution_count": null,
   "id": "ac135b54",
   "metadata": {},
   "outputs": [],
   "source": [
    "np.random.seed(101)\n",
    "an_iterator = np.nditer(np.random.random((2,5,2)))"
   ]
  },
  {
   "cell_type": "code",
   "execution_count": null,
   "id": "9c4eb7dd",
   "metadata": {},
   "outputs": [],
   "source": [
    "next(an_iterator)"
   ]
  },
  {
   "cell_type": "code",
   "execution_count": null,
   "id": "342f9565",
   "metadata": {},
   "outputs": [],
   "source": [
    "# ndenumerate\n",
    "# similar to standard library enumerate function\n",
    "\n",
    "for i, j in np.ndenumerate(np.random.random((2,5,2))):\n",
    "    print(i, j)"
   ]
  },
  {
   "cell_type": "code",
   "execution_count": null,
   "id": "469c5e49",
   "metadata": {},
   "outputs": [],
   "source": [
    "#ravel()\n",
    "# returns a 1D array representation of a higher dim data structure\n",
    "np.random.seed(101)\n",
    "\n",
    "np.ravel(np.random.random((2,5,2)))"
   ]
  },
  {
   "cell_type": "markdown",
   "id": "dcf31539",
   "metadata": {
    "slideshow": {
     "slide_type": "slide"
    }
   },
   "source": [
    "### In-Class: Some Data Cleaning with Pandas\n",
    "\n",
    "+ Download the two csv’s posted in the files section of 2DU\n",
    "    - carnegie2021.csv\n",
    "    - us_census_regions_divisions.csv\n",
    "\n",
    "+ Read both files into pandas DataFrames (encoding = \"ISO-8859-1“ for the Carnegie file)\n",
    "\n",
    "+ Retain only basic2021 values of 15 and 16 (15 = Doctoral Very High Research, 16 = Doctoral High Research)\n",
    "\n",
    "+ Split the location feature from Carnegie into city and state columns.\n",
    "\n",
    "+ Merge the files in order to add the Region and Division features from census to Carnegie. \n",
    "\n",
    "+ Retain only the following columns:\n",
    "\t*unitid, name, city, state, Region, Division, basic2018, basic2021, pdnfrstaff, facnum, socsc_rsd, hum_rsd, \tstem_rsd, oth_rsd* \n",
    "\n",
    "+ Create ranking features for the last six variables (*pdnfrstaff, facnum, socsc_rsd, hum_rsd, stem_rsd, oth_rsd*).\n",
    "\n",
    "+ Import StandardScaler from sklearn.preprocessing and fit_transform this scaler on the ranked columns….or just implement a z score manually.\n",
    "\n",
    "+ Make two composite scores according to the following arbitrary weighting scheme:\n",
    "    - HR_composite: a 50/50 weighted avg of the z scores for pdnfrstaff and facnum\n",
    "    - RSD_composite: a 40/20/20/20 weighted avg of the z scores for stem_rsd, socsc_rsd, hum_rsd, oth_rsd\n",
    "\n",
    "+ Access the names of institutions that had a high research classification (16) in 2018 and very high (15) in 2021.\n",
    "\n",
    "+ What states have the most 'Doctoral Very High Research' institutions?\n"
   ]
  },
  {
   "cell_type": "code",
   "execution_count": 15,
   "id": "29b6ae4c",
   "metadata": {},
   "outputs": [],
   "source": [
    "# Download the two csv’s posted in the files section of 2DU\n",
    "# carnegie2021.csv\n",
    "# us_census_regions_divisions.csv\n",
    "import pandas as pd\n",
    "carnegie2021 = pd.read_csv('carnegie2021.csv', encoding=\"ISO-8859-1\")\n",
    "us_census_regions_divisions = pd.read_csv('us_census_regions_divisions.csv')"
   ]
  },
  {
   "cell_type": "code",
   "execution_count": 16,
   "id": "5011c7c2",
   "metadata": {},
   "outputs": [
    {
     "data": {
      "text/html": [
       "<div>\n",
       "<style scoped>\n",
       "    .dataframe tbody tr th:only-of-type {\n",
       "        vertical-align: middle;\n",
       "    }\n",
       "\n",
       "    .dataframe tbody tr th {\n",
       "        vertical-align: top;\n",
       "    }\n",
       "\n",
       "    .dataframe thead th {\n",
       "        text-align: right;\n",
       "    }\n",
       "</style>\n",
       "<table border=\"1\" class=\"dataframe\">\n",
       "  <thead>\n",
       "    <tr style=\"text-align: right;\">\n",
       "      <th></th>\n",
       "      <th>unitid</th>\n",
       "      <th>name</th>\n",
       "      <th>location</th>\n",
       "      <th>basic2000</th>\n",
       "      <th>basic2005</th>\n",
       "      <th>basic2010</th>\n",
       "      <th>basic2015</th>\n",
       "      <th>basic2018</th>\n",
       "      <th>basic2021</th>\n",
       "      <th>ipug2021</th>\n",
       "      <th>...</th>\n",
       "      <th>satv25</th>\n",
       "      <th>satm25</th>\n",
       "      <th>satcmb25</th>\n",
       "      <th>actcmp25</th>\n",
       "      <th>satacteq25</th>\n",
       "      <th>actfinal</th>\n",
       "      <th>appsf20</th>\n",
       "      <th>admitsf20</th>\n",
       "      <th>pctadmitf20</th>\n",
       "      <th>selindex</th>\n",
       "    </tr>\n",
       "  </thead>\n",
       "  <tbody>\n",
       "    <tr>\n",
       "      <th>0</th>\n",
       "      <td>177834</td>\n",
       "      <td>A T Still University of Health Sciences</td>\n",
       "      <td>Kirksville, MO</td>\n",
       "      <td>52</td>\n",
       "      <td>25</td>\n",
       "      <td>25</td>\n",
       "      <td>25</td>\n",
       "      <td>25</td>\n",
       "      <td>25</td>\n",
       "      <td>0</td>\n",
       "      <td>...</td>\n",
       "      <td>0.0</td>\n",
       "      <td>0.0</td>\n",
       "      <td>0.0</td>\n",
       "      <td>0.0</td>\n",
       "      <td>0.0</td>\n",
       "      <td>0.0</td>\n",
       "      <td>0.0</td>\n",
       "      <td>0.0</td>\n",
       "      <td>0.000000</td>\n",
       "      <td>0.0</td>\n",
       "    </tr>\n",
       "    <tr>\n",
       "      <th>1</th>\n",
       "      <td>134811</td>\n",
       "      <td>AI Miami International University of Art and D...</td>\n",
       "      <td>Miami, FL</td>\n",
       "      <td>56</td>\n",
       "      <td>30</td>\n",
       "      <td>30</td>\n",
       "      <td>30</td>\n",
       "      <td>30</td>\n",
       "      <td>22</td>\n",
       "      <td>19</td>\n",
       "      <td>...</td>\n",
       "      <td>0.0</td>\n",
       "      <td>0.0</td>\n",
       "      <td>0.0</td>\n",
       "      <td>0.0</td>\n",
       "      <td>0.0</td>\n",
       "      <td>0.0</td>\n",
       "      <td>0.0</td>\n",
       "      <td>0.0</td>\n",
       "      <td>0.000000</td>\n",
       "      <td>0.0</td>\n",
       "    </tr>\n",
       "    <tr>\n",
       "      <th>2</th>\n",
       "      <td>429094</td>\n",
       "      <td>AOMA Graduate School of Integrative Medicine</td>\n",
       "      <td>Austin, TX</td>\n",
       "      <td>53</td>\n",
       "      <td>26</td>\n",
       "      <td>26</td>\n",
       "      <td>26</td>\n",
       "      <td>26</td>\n",
       "      <td>26</td>\n",
       "      <td>0</td>\n",
       "      <td>...</td>\n",
       "      <td>0.0</td>\n",
       "      <td>0.0</td>\n",
       "      <td>0.0</td>\n",
       "      <td>0.0</td>\n",
       "      <td>0.0</td>\n",
       "      <td>0.0</td>\n",
       "      <td>0.0</td>\n",
       "      <td>0.0</td>\n",
       "      <td>0.000000</td>\n",
       "      <td>0.0</td>\n",
       "    </tr>\n",
       "    <tr>\n",
       "      <th>3</th>\n",
       "      <td>404994</td>\n",
       "      <td>ASA College</td>\n",
       "      <td>Brooklyn, NY</td>\n",
       "      <td>-2</td>\n",
       "      <td>10</td>\n",
       "      <td>10</td>\n",
       "      <td>10</td>\n",
       "      <td>4</td>\n",
       "      <td>14</td>\n",
       "      <td>5</td>\n",
       "      <td>...</td>\n",
       "      <td>0.0</td>\n",
       "      <td>0.0</td>\n",
       "      <td>0.0</td>\n",
       "      <td>0.0</td>\n",
       "      <td>0.0</td>\n",
       "      <td>0.0</td>\n",
       "      <td>0.0</td>\n",
       "      <td>0.0</td>\n",
       "      <td>0.000000</td>\n",
       "      <td>0.0</td>\n",
       "    </tr>\n",
       "    <tr>\n",
       "      <th>4</th>\n",
       "      <td>446127</td>\n",
       "      <td>ATA Career Education</td>\n",
       "      <td>Spring Hill, FL</td>\n",
       "      <td>-2</td>\n",
       "      <td>-2</td>\n",
       "      <td>-2</td>\n",
       "      <td>-2</td>\n",
       "      <td>10</td>\n",
       "      <td>10</td>\n",
       "      <td>4</td>\n",
       "      <td>...</td>\n",
       "      <td>NaN</td>\n",
       "      <td>NaN</td>\n",
       "      <td>NaN</td>\n",
       "      <td>NaN</td>\n",
       "      <td>NaN</td>\n",
       "      <td>NaN</td>\n",
       "      <td>NaN</td>\n",
       "      <td>NaN</td>\n",
       "      <td>NaN</td>\n",
       "      <td>NaN</td>\n",
       "    </tr>\n",
       "    <tr>\n",
       "      <th>...</th>\n",
       "      <td>...</td>\n",
       "      <td>...</td>\n",
       "      <td>...</td>\n",
       "      <td>...</td>\n",
       "      <td>...</td>\n",
       "      <td>...</td>\n",
       "      <td>...</td>\n",
       "      <td>...</td>\n",
       "      <td>...</td>\n",
       "      <td>...</td>\n",
       "      <td>...</td>\n",
       "      <td>...</td>\n",
       "      <td>...</td>\n",
       "      <td>...</td>\n",
       "      <td>...</td>\n",
       "      <td>...</td>\n",
       "      <td>...</td>\n",
       "      <td>...</td>\n",
       "      <td>...</td>\n",
       "      <td>...</td>\n",
       "      <td>...</td>\n",
       "    </tr>\n",
       "    <tr>\n",
       "      <th>3930</th>\n",
       "      <td>493619</td>\n",
       "      <td>Young Americans College of the Performing Arts</td>\n",
       "      <td>Corona, CA</td>\n",
       "      <td>-2</td>\n",
       "      <td>-2</td>\n",
       "      <td>-2</td>\n",
       "      <td>-2</td>\n",
       "      <td>-2</td>\n",
       "      <td>12</td>\n",
       "      <td>4</td>\n",
       "      <td>...</td>\n",
       "      <td>NaN</td>\n",
       "      <td>NaN</td>\n",
       "      <td>NaN</td>\n",
       "      <td>NaN</td>\n",
       "      <td>NaN</td>\n",
       "      <td>NaN</td>\n",
       "      <td>NaN</td>\n",
       "      <td>NaN</td>\n",
       "      <td>NaN</td>\n",
       "      <td>NaN</td>\n",
       "    </tr>\n",
       "    <tr>\n",
       "      <th>3931</th>\n",
       "      <td>141361</td>\n",
       "      <td>Young Harris College</td>\n",
       "      <td>Young Harris, GA</td>\n",
       "      <td>40</td>\n",
       "      <td>9</td>\n",
       "      <td>9</td>\n",
       "      <td>9</td>\n",
       "      <td>21</td>\n",
       "      <td>21</td>\n",
       "      <td>10</td>\n",
       "      <td>...</td>\n",
       "      <td>480.0</td>\n",
       "      <td>450.0</td>\n",
       "      <td>930.0</td>\n",
       "      <td>17.0</td>\n",
       "      <td>17.0</td>\n",
       "      <td>17.0</td>\n",
       "      <td>2216.0</td>\n",
       "      <td>1441.0</td>\n",
       "      <td>0.650271</td>\n",
       "      <td>1.0</td>\n",
       "    </tr>\n",
       "    <tr>\n",
       "      <th>3932</th>\n",
       "      <td>206695</td>\n",
       "      <td>Youngstown State University</td>\n",
       "      <td>Youngstown, OH</td>\n",
       "      <td>21</td>\n",
       "      <td>18</td>\n",
       "      <td>18</td>\n",
       "      <td>18</td>\n",
       "      <td>18</td>\n",
       "      <td>18</td>\n",
       "      <td>16</td>\n",
       "      <td>...</td>\n",
       "      <td>480.0</td>\n",
       "      <td>480.0</td>\n",
       "      <td>960.0</td>\n",
       "      <td>18.0</td>\n",
       "      <td>18.0</td>\n",
       "      <td>18.0</td>\n",
       "      <td>8636.0</td>\n",
       "      <td>6039.0</td>\n",
       "      <td>0.699282</td>\n",
       "      <td>1.0</td>\n",
       "    </tr>\n",
       "    <tr>\n",
       "      <th>3933</th>\n",
       "      <td>126119</td>\n",
       "      <td>Yuba College</td>\n",
       "      <td>Marysville, CA</td>\n",
       "      <td>40</td>\n",
       "      <td>3</td>\n",
       "      <td>3</td>\n",
       "      <td>3</td>\n",
       "      <td>7</td>\n",
       "      <td>8</td>\n",
       "      <td>3</td>\n",
       "      <td>...</td>\n",
       "      <td>NaN</td>\n",
       "      <td>NaN</td>\n",
       "      <td>NaN</td>\n",
       "      <td>NaN</td>\n",
       "      <td>NaN</td>\n",
       "      <td>NaN</td>\n",
       "      <td>NaN</td>\n",
       "      <td>NaN</td>\n",
       "      <td>NaN</td>\n",
       "      <td>NaN</td>\n",
       "    </tr>\n",
       "    <tr>\n",
       "      <th>3934</th>\n",
       "      <td>204255</td>\n",
       "      <td>Zane State College</td>\n",
       "      <td>Zanesville, OH</td>\n",
       "      <td>40</td>\n",
       "      <td>2</td>\n",
       "      <td>2</td>\n",
       "      <td>2</td>\n",
       "      <td>6</td>\n",
       "      <td>6</td>\n",
       "      <td>2</td>\n",
       "      <td>...</td>\n",
       "      <td>NaN</td>\n",
       "      <td>NaN</td>\n",
       "      <td>NaN</td>\n",
       "      <td>NaN</td>\n",
       "      <td>NaN</td>\n",
       "      <td>NaN</td>\n",
       "      <td>NaN</td>\n",
       "      <td>NaN</td>\n",
       "      <td>NaN</td>\n",
       "      <td>NaN</td>\n",
       "    </tr>\n",
       "  </tbody>\n",
       "</table>\n",
       "<p>3935 rows × 100 columns</p>\n",
       "</div>"
      ],
      "text/plain": [
       "      unitid                                               name  \\\n",
       "0     177834            A T Still University of Health Sciences   \n",
       "1     134811  AI Miami International University of Art and D...   \n",
       "2     429094       AOMA Graduate School of Integrative Medicine   \n",
       "3     404994                                        ASA College   \n",
       "4     446127                               ATA Career Education   \n",
       "...      ...                                                ...   \n",
       "3930  493619     Young Americans College of the Performing Arts   \n",
       "3931  141361                               Young Harris College   \n",
       "3932  206695                        Youngstown State University   \n",
       "3933  126119                                       Yuba College   \n",
       "3934  204255                                 Zane State College   \n",
       "\n",
       "              location  basic2000  basic2005  basic2010  basic2015  basic2018  \\\n",
       "0       Kirksville, MO         52         25         25         25         25   \n",
       "1            Miami, FL         56         30         30         30         30   \n",
       "2           Austin, TX         53         26         26         26         26   \n",
       "3         Brooklyn, NY         -2         10         10         10          4   \n",
       "4      Spring Hill, FL         -2         -2         -2         -2         10   \n",
       "...                ...        ...        ...        ...        ...        ...   \n",
       "3930        Corona, CA         -2         -2         -2         -2         -2   \n",
       "3931  Young Harris, GA         40          9          9          9         21   \n",
       "3932    Youngstown, OH         21         18         18         18         18   \n",
       "3933    Marysville, CA         40          3          3          3          7   \n",
       "3934    Zanesville, OH         40          2          2          2          6   \n",
       "\n",
       "      basic2021  ipug2021  ...  satv25  satm25  satcmb25  actcmp25  \\\n",
       "0            25         0  ...     0.0     0.0       0.0       0.0   \n",
       "1            22        19  ...     0.0     0.0       0.0       0.0   \n",
       "2            26         0  ...     0.0     0.0       0.0       0.0   \n",
       "3            14         5  ...     0.0     0.0       0.0       0.0   \n",
       "4            10         4  ...     NaN     NaN       NaN       NaN   \n",
       "...         ...       ...  ...     ...     ...       ...       ...   \n",
       "3930         12         4  ...     NaN     NaN       NaN       NaN   \n",
       "3931         21        10  ...   480.0   450.0     930.0      17.0   \n",
       "3932         18        16  ...   480.0   480.0     960.0      18.0   \n",
       "3933          8         3  ...     NaN     NaN       NaN       NaN   \n",
       "3934          6         2  ...     NaN     NaN       NaN       NaN   \n",
       "\n",
       "      satacteq25  actfinal  appsf20  admitsf20  pctadmitf20  selindex  \n",
       "0            0.0       0.0      0.0        0.0     0.000000       0.0  \n",
       "1            0.0       0.0      0.0        0.0     0.000000       0.0  \n",
       "2            0.0       0.0      0.0        0.0     0.000000       0.0  \n",
       "3            0.0       0.0      0.0        0.0     0.000000       0.0  \n",
       "4            NaN       NaN      NaN        NaN          NaN       NaN  \n",
       "...          ...       ...      ...        ...          ...       ...  \n",
       "3930         NaN       NaN      NaN        NaN          NaN       NaN  \n",
       "3931        17.0      17.0   2216.0     1441.0     0.650271       1.0  \n",
       "3932        18.0      18.0   8636.0     6039.0     0.699282       1.0  \n",
       "3933         NaN       NaN      NaN        NaN          NaN       NaN  \n",
       "3934         NaN       NaN      NaN        NaN          NaN       NaN  \n",
       "\n",
       "[3935 rows x 100 columns]"
      ]
     },
     "execution_count": 16,
     "metadata": {},
     "output_type": "execute_result"
    }
   ],
   "source": [
    "carnegie2021"
   ]
  },
  {
   "cell_type": "code",
   "execution_count": null,
   "id": "9ac4457c",
   "metadata": {},
   "outputs": [],
   "source": []
  }
 ],
 "metadata": {
  "kernelspec": {
   "display_name": "Python 3 (ipykernel)",
   "language": "python",
   "name": "python3"
  },
  "language_info": {
   "codemirror_mode": {
    "name": "ipython",
    "version": 3
   },
   "file_extension": ".py",
   "mimetype": "text/x-python",
   "name": "python",
   "nbconvert_exporter": "python",
   "pygments_lexer": "ipython3",
   "version": "3.10.0"
  }
 },
 "nbformat": 4,
 "nbformat_minor": 5
}
